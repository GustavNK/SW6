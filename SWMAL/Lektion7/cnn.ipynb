{
 "cells": [
  {
   "cell_type": "markdown",
   "metadata": {},
   "source": [
    "# SWMAL Exercise\n",
    "\n",
    "\n",
    "## Convolutional Neural Networks (CNNs)\n",
    "\n",
    "\n",
    "Excercise 9 from [HOML], p496  (slighty modified)::\n",
    "\n",
    "__\"9. Build your own CNN from scratch and try to achieve the highest possible accuracy on MNIST.\"__\n",
    "\n",
    "For the journal: \n",
    "\n",
    "* write an introduction to CNNs (what are CNNs, what is a convolution layer, etc..), \n",
    "* document your experiments towards the end-goal of reaching 'a high accuracy' (what did you try, what work/did not work), \n",
    "* document how you use '_generalization_' in your setup (us of simple hold-out/train-test split or k-fold, or etc..),\n",
    "* produce some sort of '_learning-curve_' that illustrates the drop in cost- or increase in score-function with respect to, say training iteration (for inspiration see fig 4.20, 10-12 or 10.17 in [HOML])\n",
    "* document the final CNN setup (layers etc., perhaps as a graph/drawing), \n",
    "* discus on your iterations towards the end-goal and other findings you had,\n",
    "* and, as always, write a conclusion."
   ]
  },
  {
   "cell_type": "code",
   "execution_count": 14,
   "metadata": {},
   "outputs": [
    {
     "name": "stdout",
     "output_type": "stream",
     "text": [
      "(70000, 28, 28)\n"
     ]
    }
   ],
   "source": [
    "from sklearn.datasets import fetch_openml\n",
    "from sklearn.model_selection import train_test_split\n",
    "from tensorflow.keras.utils import to_categorical #This works dont worry\n",
    "\n",
    "\n",
    "def MNIST_InitData():\n",
    "    return fetch_openml('mnist_784', return_X_y=True, cache=True, as_frame=False)\n",
    "\n",
    "def MNIST_GetDataSet(X):\n",
    "    return (X / 255)\n",
    "\n",
    "MNIST_X, MNIST_Y = MNIST_InitData()\n",
    "MNIST_X = MNIST_GetDataSet(MNIST_X)\n",
    "\n",
    "reshaped_MNIST_X = MNIST_X.reshape(len(MNIST_X), 28, 28)\n",
    "print(reshaped_MNIST_X.shape)\n",
    "\n",
    "x_train, x_test, y_train, y_test = train_test_split(reshaped_MNIST_X, MNIST_Y, test_size=0.2, random_state=69)\n",
    "y_train = to_categorical(y_train, dtype =\"uint8\")\n",
    "y_test = to_categorical(y_test, dtype =\"uint8\")"
   ]
  },
  {
   "cell_type": "code",
   "execution_count": 15,
   "metadata": {},
   "outputs": [
    {
     "name": "stdout",
     "output_type": "stream",
     "text": [
      "(56000, 28, 28)\n",
      "(14000, 10)\n",
      "(14000, 10)\n"
     ]
    }
   ],
   "source": [
    "print(x_train.shape)\n",
    "print(y_test.shape)\n",
    "print(y_test.shape)"
   ]
  },
  {
   "cell_type": "code",
   "execution_count": 16,
   "metadata": {},
   "outputs": [
    {
     "name": "stdout",
     "output_type": "stream",
     "text": [
      "Model: \"sequential_3\"\n",
      "_________________________________________________________________\n",
      " Layer (type)                Output Shape              Param #   \n",
      "=================================================================\n",
      " conv2d_6 (Conv2D)           (None, 26, 26, 6)         60        \n",
      "                                                                 \n",
      " average_pooling2d_6 (Averag  (None, 13, 13, 6)        0         \n",
      " ePooling2D)                                                     \n",
      "                                                                 \n",
      " conv2d_7 (Conv2D)           (None, 11, 11, 16)        880       \n",
      "                                                                 \n",
      " average_pooling2d_7 (Averag  (None, 5, 5, 16)         0         \n",
      " ePooling2D)                                                     \n",
      "                                                                 \n",
      " flatten_3 (Flatten)         (None, 400)               0         \n",
      "                                                                 \n",
      " dense_9 (Dense)             (None, 120)               48120     \n",
      "                                                                 \n",
      " dense_10 (Dense)            (None, 84)                10164     \n",
      "                                                                 \n",
      " dense_11 (Dense)            (None, 10)                850       \n",
      "                                                                 \n",
      "=================================================================\n",
      "Total params: 60,074\n",
      "Trainable params: 60,074\n",
      "Non-trainable params: 0\n",
      "_________________________________________________________________\n"
     ]
    }
   ],
   "source": [
    "import keras\n",
    "from keras import layers\n",
    "\n",
    "seq = keras.Sequential()\n",
    "\n",
    "seq.add(layers.Conv2D(filters= 6, kernel_size=(3,3), activation='relu', input_shape=(28,28,1)))\n",
    "seq.add(layers.AveragePooling2D())\n",
    "seq.add(layers.Conv2D(filters=16, kernel_size=(3,3), activation='relu', input_shape=(28,28,1)))\n",
    "\n",
    "seq.add(layers.AveragePooling2D())\n",
    "seq.add(layers.Flatten())\n",
    "\n",
    "seq.add(layers.Dense(units=120, activation='relu'))\n",
    "seq.add(layers.Dense(units=84, activation='relu'))\n",
    "seq.add(layers.Dense(units=10, activation='softmax'))\n",
    "\n",
    "seq.summary()\n",
    "\n",
    "seq.compile(optimizer='sgd', loss=keras.losses.CategoricalCrossentropy(\n",
    "    from_logits=False,\n",
    "    label_smoothing=0.0,\n",
    "    axis=-1,\n",
    "    reduction=\"auto\",\n",
    "    name=\"categorical_crossentropy\",\n",
    ")) # optimizer='SGD', loss='MSE'\n"
   ]
  },
  {
   "cell_type": "code",
   "execution_count": 17,
   "metadata": {},
   "outputs": [
    {
     "name": "stdout",
     "output_type": "stream",
     "text": [
      "(56000, 28, 28)\n",
      "(56000, 10)\n"
     ]
    }
   ],
   "source": [
    "print(x_train.shape)\n",
    "print(y_train.shape)"
   ]
  },
  {
   "cell_type": "code",
   "execution_count": 29,
   "metadata": {},
   "outputs": [
    {
     "name": "stdout",
     "output_type": "stream",
     "text": [
      "Epoch 1/15\n",
      "1750/1750 [==============================] - 16s 8ms/step - loss: 0.0629\n",
      "Epoch 2/15\n",
      "1750/1750 [==============================] - 16s 9ms/step - loss: 0.0582\n",
      "Epoch 3/15\n",
      "1750/1750 [==============================] - 17s 10ms/step - loss: 0.0549\n",
      "Epoch 4/15\n",
      "1750/1750 [==============================] - 15s 8ms/step - loss: 0.0517\n",
      "Epoch 5/15\n",
      "1750/1750 [==============================] - 15s 8ms/step - loss: 0.0498\n",
      "Epoch 6/15\n",
      "1750/1750 [==============================] - 17s 10ms/step - loss: 0.0469\n",
      "Epoch 7/15\n",
      "1750/1750 [==============================] - 15s 9ms/step - loss: 0.0457\n",
      "Epoch 8/15\n",
      "1750/1750 [==============================] - 17s 10ms/step - loss: 0.0422\n",
      "Epoch 9/15\n",
      "1750/1750 [==============================] - 17s 9ms/step - loss: 0.0408\n",
      "Epoch 10/15\n",
      "1750/1750 [==============================] - 15s 9ms/step - loss: 0.0374\n",
      "Epoch 11/15\n",
      "1750/1750 [==============================] - 15s 8ms/step - loss: 0.0369\n",
      "Epoch 12/15\n",
      "1750/1750 [==============================] - 15s 8ms/step - loss: 0.0345\n",
      "Epoch 13/15\n",
      "1750/1750 [==============================] - 17s 10ms/step - loss: 0.0334\n",
      "Epoch 14/15\n",
      "1750/1750 [==============================] - 17s 10ms/step - loss: 0.0317\n",
      "Epoch 15/15\n",
      "1750/1750 [==============================] - 14s 8ms/step - loss: 0.0298\n"
     ]
    },
    {
     "data": {
      "text/plain": [
       "<keras.callbacks.History at 0x1a8a6b654c0>"
      ]
     },
     "execution_count": 29,
     "metadata": {},
     "output_type": "execute_result"
    }
   ],
   "source": [
    "seq.fit(x_train, y_train, epochs=15)"
   ]
  },
  {
   "cell_type": "code",
   "execution_count": 31,
   "metadata": {},
   "outputs": [
    {
     "name": "stdout",
     "output_type": "stream",
     "text": [
      "438/438 [==============================] - 10s 4ms/step - loss: 0.0684\n"
     ]
    },
    {
     "data": {
      "text/plain": [
       "0.06839080154895782"
      ]
     },
     "execution_count": 31,
     "metadata": {},
     "output_type": "execute_result"
    }
   ],
   "source": [
    "#results = seq.predict(x_test)\n",
    "seq.evaluate(x_test, y_test)"
   ]
  },
  {
   "cell_type": "code",
   "execution_count": null,
   "metadata": {},
   "outputs": [],
   "source": []
  },
  {
   "cell_type": "markdown",
   "metadata": {},
   "source": [
    "REVISIONS||\n",
    "---------||\n",
    "2021-10-20| CEF, initial version, clone from [HOML].\n",
    "2021-10-26| CEF, added learning curve item.\n",
    "2022-01-25| CEF, update to SWMAL F22.\n"
   ]
  }
 ],
 "metadata": {
  "kernelspec": {
   "display_name": "Python 3 (ipykernel)",
   "language": "python",
   "name": "python3"
  },
  "language_info": {
   "codemirror_mode": {
    "name": "ipython",
    "version": 3
   },
   "file_extension": ".py",
   "mimetype": "text/x-python",
   "name": "python",
   "nbconvert_exporter": "python",
   "pygments_lexer": "ipython3",
   "version": "3.9.7"
  },
  "varInspector": {
   "cols": {
    "lenName": 16,
    "lenType": 16,
    "lenVar": 40
   },
   "kernels_config": {
    "python": {
     "delete_cmd_postfix": "",
     "delete_cmd_prefix": "del ",
     "library": "var_list.py",
     "varRefreshCmd": "print(var_dic_list())"
    },
    "r": {
     "delete_cmd_postfix": ") ",
     "delete_cmd_prefix": "rm(",
     "library": "var_list.r",
     "varRefreshCmd": "cat(var_dic_list()) "
    }
   },
   "types_to_exclude": [
    "module",
    "function",
    "builtin_function_or_method",
    "instance",
    "_Feature"
   ],
   "window_display": true
  }
 },
 "nbformat": 4,
 "nbformat_minor": 4
}
