{
 "cells": [
  {
   "cell_type": "markdown",
   "metadata": {},
   "source": [
    "# SWMAL Exercise\n",
    "\n",
    "\n",
    "## Convolutional Neural Networks (CNNs)\n",
    "\n",
    "\n",
    "Excercise 9 from [HOML], p496  (slighty modified)::\n",
    "\n",
    "__\"9. Build your own CNN from scratch and try to achieve the highest possible accuracy on MNIST.\"__\n",
    "\n",
    "For the journal: \n",
    "\n",
    "* write an introduction to CNNs (what are CNNs, what is a convolution layer, etc..), \n",
    "* document your experiments towards the end-goal of reaching 'a high accuracy' (what did you try, what work/did not work), \n",
    "* document how you use '_generalization_' in your setup (us of simple hold-out/train-test split or k-fold, or etc..),\n",
    "* produce some sort of '_learning-curve_' that illustrates the drop in cost- or increase in score-function with respect to, say training iteration (for inspiration see fig 4.20, 10-12 or 10.17 in [HOML])\n",
    "* document the final CNN setup (layers etc., perhaps as a graph/drawing), \n",
    "* discus on your iterations towards the end-goal and other findings you had,\n",
    "* and, as always, write a conclusion."
   ]
  },
  {
   "cell_type": "code",
   "execution_count": null,
   "metadata": {},
   "outputs": [],
   "source": [
    "from sklearn.datasets import fetch_openml\n",
    "from sklearn.model_selection import train_test_split\n",
    "from tensorflow.keras.utils import to_categorical #This works dont worry\n",
    "\n",
    "\n",
    "def MNIST_InitData():\n",
    "    return fetch_openml('mnist_784', return_X_y=True, cache=True, as_frame=False)\n",
    "\n",
    "def MNIST_GetDataSet(X):\n",
    "    return (X / 255)\n",
    "\n",
    "MNIST_X, MNIST_Y = MNIST_InitData()\n",
    "MNIST_X = MNIST_GetDataSet(MNIST_X)\n",
    "\n",
    "reshaped_MNIST_X = MNIST_X.reshape(len(MNIST_X), 28, 28)\n",
    "print(reshaped_MNIST_X.shape)\n",
    "\n",
    "x_train, x_test, y_train, y_test = train_test_split(reshaped_MNIST_X, MNIST_Y, test_size=0.2, random_state=69)\n",
    "y_train = to_categorical(y_train, dtype =\"uint8\")\n",
    "y_test = to_categorical(y_test, dtype =\"uint8\")"
   ]
  },
  {
   "cell_type": "code",
   "execution_count": null,
   "metadata": {},
   "outputs": [],
   "source": [
    "print(x_train.shape)\n",
    "print(y_test.shape)\n",
    "print(y_test.shape)"
   ]
  },
  {
   "cell_type": "code",
   "execution_count": null,
   "metadata": {},
   "outputs": [],
   "source": [
    "import keras\n",
    "from keras import layers\n",
    "\n",
    "# BASE\n",
    "\n",
    "seq = keras.Sequential()\n",
    "\n",
    "seq.add(layers.Conv2D(filters= 6, kernel_size=(3,3), activation='relu', input_shape=(28,28,1)))\n",
    "seq.add(layers.AveragePooling2D())\n",
    "\n",
    "seq.add(layers.Conv2D(filters=32, kernel_size=(3,3), activation='relu', input_shape=(28,28,1)))\n",
    "seq.add(layers.AveragePooling2D())\n",
    "\n",
    "seq.add(layers.Flatten())\n",
    "\n",
    "seq.add(layers.Dense(units=120, activation='relu'))\n",
    "seq.add(layers.Dense(units=84, activation='relu'))\n",
    "seq.add(layers.Dense(units=10, activation='softmax'))\n",
    "\n",
    "seq.summary()\n",
    "\n",
    "seq.compile(optimizer='sgd', loss=keras.losses.CategoricalCrossentropy(\n",
    "    from_logits=True,\n",
    ")) # optimizer='SGD', loss='MSE'"
   ]
  },
  {
   "cell_type": "code",
   "execution_count": null,
   "metadata": {},
   "outputs": [],
   "source": [
    "import keras\n",
    "from keras import layers\n",
    "\n",
    "# Use Adam & MaxPooling\n",
    "\n",
    "seq = keras.Sequential()\n",
    "\n",
    "seq.add(layers.Conv2D(filters= 6, kernel_size=(3,3), activation='relu', input_shape=(28,28,1)))\n",
    "seq.add(layers.MaxPooling2D())\n",
    "\n",
    "seq.add(layers.Conv2D(filters=32, kernel_size=(3,3), activation='relu', input_shape=(28,28,1)))\n",
    "seq.add(layers.MaxPooling2D())\n",
    "\n",
    "seq.add(layers.Flatten())\n",
    "\n",
    "seq.add(layers.Dense(units=120, activation='relu'))\n",
    "seq.add(layers.Dense(units=84, activation='relu'))\n",
    "seq.add(layers.Dense(units=10, activation='softmax'))\n",
    "\n",
    "seq.summary()\n",
    "\n",
    "seq.compile(optimizer='adam', loss=keras.losses.CategoricalCrossentropy(\n",
    "    from_logits=True,\n",
    ")) # optimizer='SGD', loss='MSE'"
   ]
  },
  {
   "cell_type": "code",
   "execution_count": null,
   "metadata": {},
   "outputs": [],
   "source": [
    "import keras\n",
    "from keras import layers\n",
    "\n",
    "# Use extra Conv2D\n",
    "\n",
    "seq = keras.Sequential()\n",
    "\n",
    "seq.add(layers.Conv2D(filters= 6, kernel_size=(3,3), activation='relu', input_shape=(28,28,1)))\n",
    "seq.add(layers.AveragePooling2D())\n",
    "seq.add(layers.Conv2D(filters=16, kernel_size=(3,3), activation='relu', input_shape=(28,28,1)))\n",
    "seq.add(layers.MaxPooling2D())\n",
    "seq.add(layers.Conv2D(filters=16, kernel_size=(3,3), activation='relu', input_shape=(28,28,1)))\n",
    "seq.add(layers.AveragePooling2D())\n",
    "\n",
    "seq.add(layers.Flatten())\n",
    "\n",
    "seq.add(layers.Dense(units=120, activation='relu'))\n",
    "seq.add(layers.Dense(units=84, activation='relu'))\n",
    "seq.add(layers.Dense(units=10, activation='softmax'))\n",
    "\n",
    "seq.summary()\n",
    "\n",
    "seq.compile(optimizer='sgd', loss=keras.losses.CategoricalCrossentropy(\n",
    "    from_logits=True,\n",
    ")) # optimizer='SGD', loss='MSE'"
   ]
  },
  {
   "cell_type": "code",
   "execution_count": null,
   "metadata": {},
   "outputs": [],
   "source": [
    "import keras\n",
    "from keras import layers\n",
    "\n",
    "# remove Dense layer\n",
    "\n",
    "seq = keras.Sequential()\n",
    "\n",
    "seq.add(layers.Conv2D(filters= 6, kernel_size=(3,3), activation='sigmoid', input_shape=(28,28,1)))\n",
    "seq.add(layers.AveragePooling2D())\n",
    "\n",
    "seq.add(layers.Conv2D(filters=32, kernel_size=(3,3), activation='sigmoid', input_shape=(28,28,1)))\n",
    "seq.add(layers.AveragePooling2D())\n",
    "\n",
    "seq.add(layers.Flatten())\n",
    "\n",
    "seq.add(layers.Dense(units=120, activation='relu'))\n",
    "seq.add(layers.Dense(units=10, activation='softmax'))\n",
    "\n",
    "seq.summary()\n",
    "\n",
    "seq.compile(optimizer='sgd', loss=keras.losses.CategoricalCrossentropy(\n",
    "    from_logits=True,\n",
    ")) # optimizer='SGD', loss='MSE'"
   ]
  },
  {
   "cell_type": "code",
   "execution_count": null,
   "metadata": {},
   "outputs": [],
   "source": [
    "print(x_train.shape)\n",
    "print(y_train.shape)"
   ]
  },
  {
   "cell_type": "code",
   "execution_count": null,
   "metadata": {},
   "outputs": [],
   "source": [
    "seq.fit(x_train, y_train, epochs=5)"
   ]
  },
  {
   "cell_type": "code",
   "execution_count": null,
   "metadata": {},
   "outputs": [],
   "source": [
    "results = seq.predict(x_test)\n",
    "print(results)\n",
    "print(seq.evaluate(x_test, y_test))"
   ]
  },
  {
   "cell_type": "code",
   "execution_count": null,
   "metadata": {},
   "outputs": [],
   "source": [
    "from tensorflow.keras import utils\n",
    "\n",
    "utils.plot_model(\n",
    "    seq,\n",
    "    to_file=\"model.png\",\n",
    "    show_shapes=False,\n",
    "    show_dtype=False,\n",
    "    show_layer_names=True,\n",
    "    rankdir=\"TB\",\n",
    "    expand_nested=False,\n",
    "    dpi=96,\n",
    "    layer_range=None,\n",
    "    show_layer_activations=False,\n",
    ")\n"
   ]
  },
  {
   "cell_type": "markdown",
   "metadata": {},
   "source": [
    "REVISIONS||\n",
    "---------||\n",
    "2021-10-20| CEF, initial version, clone from [HOML].\n",
    "2021-10-26| CEF, added learning curve item.\n",
    "2022-01-25| CEF, update to SWMAL F22.\n"
   ]
  }
 ],
 "metadata": {
  "kernelspec": {
   "display_name": "Python 3 (ipykernel)",
   "language": "python",
   "name": "python3"
  },
  "language_info": {
   "codemirror_mode": {
    "name": "ipython",
    "version": 3
   },
   "file_extension": ".py",
   "mimetype": "text/x-python",
   "name": "python",
   "nbconvert_exporter": "python",
   "pygments_lexer": "ipython3",
   "version": "3.9.7"
  },
  "varInspector": {
   "cols": {
    "lenName": 16,
    "lenType": 16,
    "lenVar": 40
   },
   "kernels_config": {
    "python": {
     "delete_cmd_postfix": "",
     "delete_cmd_prefix": "del ",
     "library": "var_list.py",
     "varRefreshCmd": "print(var_dic_list())"
    },
    "r": {
     "delete_cmd_postfix": ") ",
     "delete_cmd_prefix": "rm(",
     "library": "var_list.r",
     "varRefreshCmd": "cat(var_dic_list()) "
    }
   },
   "types_to_exclude": [
    "module",
    "function",
    "builtin_function_or_method",
    "instance",
    "_Feature"
   ],
   "window_display": true
  }
 },
 "nbformat": 4,
 "nbformat_minor": 4
}
