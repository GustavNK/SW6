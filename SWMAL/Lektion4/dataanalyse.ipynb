{
 "cells": [
  {
   "cell_type": "markdown",
   "metadata": {},
   "source": [
    "#  SWMAL Opgave\n",
    "\n",
    "## Dataanalyse\n",
    "\n",
    "### Qa) Beskrivelse af datasæt til O4 projekt\n",
    "\n",
    "I kurset er slutprojektet et bærende element, som I forventes at arbejde på igennem hele kurset\n",
    "sideløbende med de forskellige undervisningsemner. \n",
    "\n",
    "I skal selv vælge et O4 projekt–det anbefales at I vælger en problemstilling, hvor der allerede er data til rådighed og en god beskrivelse af data, dataopsamlingsmetode og problemstilling.\n",
    "\n",
    "I denne opgave skal I:\n",
    "\n",
    "* a) Give en kort konceptmæssig projektbeskrivelse af Jeres ide til O4 projekt. \n",
    "\n",
    "* b) Beskrive jeres valgte datasæt med en kort forklaring af baggrund og hvor I har fået data fra.\n",
    "\n",
    "* c) Beskrive data–dvs. hvilke features, antal samples, target værdier, evt. fejl/usikkerheder, etc.\n",
    "\n",
    "* d) Forklare hvordan I ønsker at anvende datasættet – vil I fx. bruge det til at prædiktere noget\n",
    "bestemt, lave en regression eller klassifikation, el.lign. \n",
    "\n",
    "I vil nok komme til at anvende data også på andre måder i løbet af undervisningen – men det behøver I ikke nævne. Og det er også ok, hvis I ender med at bruge data på en anden måde end planlagt her.\n",
    "\n",
    "Omfang af beskrivelsen forventes at være 1-2 sider.\n",
    "\n",
    "\n",
    "### Qb) Dataanalyse af eget datasæt\n",
    "\n",
    "Lav data analyse på jeres egne data og projekt.\n",
    "\n",
    "Det indebærer de sædvanlige elementer såsom plotte histogrammer, middelværdi/median/spredning, analysere for outliers/korrupte data, forslag til skalering af data og lignende former for analyse af data.\n",
    "\n",
    "For nogle typer data (fx billed-data), hvor features ikke har en specifik betydning, er det mest\n",
    "histogrammer og lignende, som giver mening – det er helt o.k. \n",
    "\n",
    "\n",
    "#### NOTE vdr. billeddatasæts\n",
    "\n",
    "For billeddata fer hver pixel en feature, og alm. analyse beskrevet ovenfor giver ikke indsigt. Prøv i stedet for billeder at beskrive billedformater (JPEG, PNG osv. / RGB, HSV, gråtone, multispektral, etc.), størrelser af billeder, hvordan de er repræsenteret på disk (dirs osv.)\n",
    "\n",
    "Giv også eksempler på billeder og evt. labels i billedesæt.\n",
    "\n",
    "Histogrammer kan udføres på enkelte billeder, men kun i forbindelse med labelede områder---og bedst på billesæt med ens baggrunde.\n",
    "\n",
    "Benytter i lyddata eller video gælder de samme begrænsinger som får billeder her.\n",
    "\n",
    "### NOTE vdr. valg af datasæt til O4\n",
    "\n",
    "I har frie hænder til at vælge O4 projekt og tilhørende datasæt og valg af datasæt og ide til O4 her er ikke endelig. \n",
    "\n",
    "Dvs. at i løbende kan modificere projektbeskrivelse og, evt. om nødvendigt, vælge et andet datasæt senere, hvis jeres nuværende valg viser sig umuligt (men er en dyr proces). \n",
    "\n",
    "Scope af O4 projekt bør også begrænses, så det passer til kurset og til den '_time-box_'ede aflevering."
   ]
  },
  {
   "cell_type": "code",
   "execution_count": 111,
   "metadata": {},
   "outputs": [
    {
     "name": "stdout",
     "output_type": "stream",
     "text": [
      "[678, 678, 647, 652, 960]\n"
     ]
    }
   ],
   "source": [
    "import os\n",
    "import re\n",
    "\n",
    "img_dir = \"C:/Projects/SWMAL/real_and_fake_face/training_fake\"\n",
    "dir_list = os.listdir(img_dir)\n",
    "\n",
    "pattern = \"(\\w+)_(\\d+)_(\\d)(\\d)(\\d)(\\d).jpg\"\n",
    "total = [0, 0, 0, 0, 0]\n",
    "for i in dir_list:\n",
    "    result = re.match(pattern, i)\n",
    "    left, right, nose, mouth = result.group(3, 4, 5, 6)\n",
    "    total[0] += int(left)\n",
    "    total[1] += int(right)\n",
    "    total[2] += int(nose)\n",
    "    total[3] += int(mouth)\n",
    "    total[4] += 1\n",
    "  \n",
    "print(total)\n"
   ]
  },
  {
   "cell_type": "code",
   "execution_count": 75,
   "metadata": {},
   "outputs": [
    {
     "name": "stdout",
     "output_type": "stream",
     "text": [
      "easy_100_1111.jpg\n",
      "R: 138.32224166666666\n",
      "G: 115.63047222222222\n",
      "B: 83.28405277777777\n",
      "easy_101_0010.jpg\n",
      "R: 131.32065\n",
      "G: 105.93905833333334\n",
      "B: 87.22105\n",
      "easy_102_0101.jpg\n",
      "R: 110.16915555555556\n",
      "G: 85.66137222222223\n",
      "B: 65.98336944444445\n",
      "easy_103_1111.jpg\n",
      "R: 155.33610277777777\n",
      "G: 113.61043055555555\n",
      "B: 102.46194444444444\n",
      "easy_104_1000.jpg\n",
      "R: 197.37028333333333\n",
      "G: 176.79910833333332\n",
      "B: 167.05466944444444\n",
      "easy_105_1100.jpg\n",
      "R: 133.76128055555554\n",
      "G: 113.83376111111112\n",
      "B: 108.65727222222222\n",
      "easy_106_0011.jpg\n",
      "R: 163.180875\n",
      "G: 141.20743333333334\n",
      "B: 129.71388333333334\n",
      "easy_107_1011.jpg\n",
      "R: 156.17805277777776\n",
      "G: 118.72894444444445\n",
      "B: 99.68411666666667\n",
      "easy_108_1111.jpg\n",
      "R: 135.60375\n",
      "G: 112.1897\n",
      "B: 103.34115555555556\n",
      "easy_109_1111.jpg\n",
      "R: 99.75889444444445\n",
      "G: 83.49429722222222\n",
      "B: 77.54935555555555\n"
     ]
    }
   ],
   "source": [
    "import os\n",
    "from PIL import Image\n",
    "\n",
    "img_dir = \"C:/Projects/SWMAL/real_and_fake_face/training_fake\"\n",
    "#name = \"easy_1_1110.jpg\"\n",
    "#img = Image.open(img_dir + \"/\" + name)\n",
    "dir_list = os.listdir(img_dir)\n",
    "\n",
    "for name in range(10):\n",
    "    img = Image.open(img_dir + \"/\" + dir_list[name])\n",
    "    r_list = []\n",
    "    g_list = []\n",
    "    b_list = []\n",
    "    for x in range(600):\n",
    "        for y in range(600):\n",
    "            r, g, b = img.getpixel((x, y))\n",
    "            r_list.append(r)\n",
    "            g_list.append(g)\n",
    "            b_list.append(b)\n",
    "    print(f\"{dir_list[name]}\")\n",
    "    print(f\"R: {sum(r_list)/len(r_list)}\")\n",
    "    print(f\"G: {sum(g_list)/len(g_list)}\")\n",
    "    print(f\"B: {sum(b_list)/len(b_list)}\")"
   ]
  },
  {
   "cell_type": "code",
   "execution_count": 122,
   "metadata": {},
   "outputs": [
    {
     "name": "stdout",
     "output_type": "stream",
     "text": [
      "{(600, 600)}\n"
     ]
    },
    {
     "data": {
      "image/png": "[encoded data removed]",
      "text/plain": [
       "<Figure size 432x288 with 1 Axes>"
      ]
     },
     "metadata": {
      "needs_background": "light"
     },
     "output_type": "display_data"
    }
   ],
   "source": [
    "import os\n",
    "from PIL import Image\n",
    "from matplotlib import pyplot as plt\n",
    "\n",
    "img_dir = \"C:/Projects/SWMAL/real_and_fake_face/training_fake\"\n",
    "dir_list = os.listdir(img_dir)\n",
    "\n",
    "sizes = []\n",
    "\n",
    "for name in dir_list:\n",
    "    img = Image.open(img_dir + \"/\" + name)\n",
    "    sizes.append(img.size)\n",
    "\n",
    "img_dir = \"C:/Projects/SWMAL/real_and_fake_face/training_real\"\n",
    "dir_list = os.listdir(img_dir)\n",
    "\n",
    "for name in dir_list:\n",
    "    img = Image.open(img_dir + \"/\" + name)\n",
    "    sizes.append(img.size)\n",
    "\n",
    "file_size = []\n",
    "for name in dir_list:\n",
    "    file_size.append(os.path.getsize(img_dir + \"/\" + name) / 1024)\n",
    "\n",
    "plt.xlabel(\"image size in kB\")\n",
    "plt.yticks([])\n",
    "plt.boxplot(file_size, vert=False)\n",
    "plt.savefig(\"./box_file_size.png\", dpi=300, format=\"png\")\n",
    "\n",
    "print(set(sizes))"
   ]
  },
  {
   "cell_type": "code",
   "execution_count": null,
   "metadata": {},
   "outputs": [],
   "source": [
    "import os\n",
    "from PIL import Image\n",
    "\n",
    "img_dir = \"C:/Projects/SWMAL/real_and_fake_face/training_fake\"\n",
    "dir_list = os.listdir(img_dir)\n",
    "\n",
    "for name in dir_list:\n",
    "  sizes.append(os.path.getsize(name))\n",
    "plt.hist(sizes)"
   ]
  },
  {
   "cell_type": "code",
   "execution_count": null,
   "metadata": {},
   "outputs": [],
   "source": [
    "%matplotlib inline\n",
    "import numpy as np\n",
    "import matplotlib.pyplot as plt"
   ]
  },
  {
   "cell_type": "markdown",
   "metadata": {},
   "source": [
    "REVISIONS||\n",
    "---------||\n",
    "2021-08-17| CEF, moved from Word to Notebook.\n",
    "2021-11-08| CEF, elaborated on image based data.\n",
    "2022-01-25| CEF, update to F22 SWMAL."
   ]
  }
 ],
 "metadata": {
  "kernelspec": {
   "display_name": "Python 3 (ipykernel)",
   "language": "python",
   "name": "python3"
  },
  "language_info": {
   "codemirror_mode": {
    "name": "ipython",
    "version": 3
   },
   "file_extension": ".py",
   "mimetype": "text/x-python",
   "name": "python",
   "nbconvert_exporter": "python",
   "pygments_lexer": "ipython3",
   "version": "3.9.7"
  },
  "varInspector": {
   "cols": {
    "lenName": 16,
    "lenType": 16,
    "lenVar": 40
   },
   "kernels_config": {
    "python": {
     "delete_cmd_postfix": "",
     "delete_cmd_prefix": "del ",
     "library": "var_list.py",
     "varRefreshCmd": "print(var_dic_list())"
    },
    "r": {
     "delete_cmd_postfix": ") ",
     "delete_cmd_prefix": "rm(",
     "library": "var_list.r",
     "varRefreshCmd": "cat(var_dic_list()) "
    }
   },
   "types_to_exclude": [
    "module",
    "function",
    "builtin_function_or_method",
    "instance",
    "_Feature"
   ],
   "window_display": true
  }
 },
 "nbformat": 4,
 "nbformat_minor": 2
}
