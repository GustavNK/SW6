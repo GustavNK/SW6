{
 "cells": [
  {
   "cell_type": "markdown",
   "metadata": {},
   "source": [
    "# SWMAL Exercise\n",
    "\n",
    "## Pipelines\n",
    "\n",
    "We now try building af ML pipeline. The data for this exercise is the same as in L01, meaning that the OECD data from the 'intro.ipynb' have been save into a Python 'pickle' file. \n",
    "\n",
    "The pickle library is a nifty data preservation method in Python, and from L01 the tuple `(X, y)` have been stored to the pickle file `tmal_l01_data.pkl', try reloading it.."
   ]
  },
  {
   "cell_type": "code",
   "execution_count": 1,
   "metadata": {},
   "outputs": [
    {
     "name": "stdout",
     "output_type": "stream",
     "text": [
      "[6.  5.6 4.9 5.8 6.1 5.6 4.8 5.1 5.7 6.5 5.8 6.  5.9 7.4 7.3 6.5 6.9 7.\n",
      " 7.4 7.3 7.3 6.9 6.8 7.2 7.5 7.3 7.  7.5 7.2]\n",
      "X.shape=(29, 1),  y.shape=(29,)\n",
      "OK\n"
     ]
    }
   ],
   "source": [
    "%matplotlib inline\n",
    "\n",
    "import numpy as np\n",
    "import matplotlib\n",
    "import matplotlib.pyplot as plt\n",
    "\n",
    "def LoadDataFromL01():\n",
    "    import pickle\n",
    "    filename = \"Data/itmal_l01_data.pkl\"\n",
    "    with open(f\"{filename}\", \"rb\") as f:\n",
    "        (X, y) = pickle.load(f)\n",
    "        return X, y\n",
    "\n",
    "X, y = LoadDataFromL01()\n",
    "\n",
    "print(y)\n",
    "\n",
    "print(f\"X.shape={X.shape},  y.shape={y.shape}\")\n",
    "\n",
    "assert X.shape[0] == y.shape[0]\n",
    "assert X.ndim == 2\n",
    "assert y.ndim == 1  # did a y.ravel() before saving to picke file\n",
    "assert X.shape[0] == 29\n",
    "\n",
    "# re-create plot data (not stored in the Pickel file)\n",
    "m = np.linspace(0, 60000, 1000)\n",
    "M = np.empty([m.shape[0], 1])\n",
    "M[:, 0] = m\n",
    "\n",
    "print(\"OK\")"
   ]
  },
  {
   "cell_type": "markdown",
   "metadata": {},
   "source": [
    "###  Revisiting the problem with the MLP\n",
    "\n",
    "Using the MLP for the QECD data in Qd) from `intro.ipynb` produced a negative $R^2$, meaning that it was unable to fit the data, and the MPL model was actually _worse_ than the naive $\\hat y$ (mean value of y).\n",
    "\n",
    "Let's just revisit this fact. When running the next cell you should now see an OK $~R^2_{lin.reg}~$ score and a negative $~R^2_{mlp}~$ score.."
   ]
  },
  {
   "cell_type": "code",
   "execution_count": 2,
   "metadata": {},
   "outputs": [
    {
     "name": "stdout",
     "output_type": "stream",
     "text": [
      "The MLP may mis-fit the data, seen in the, sometimes, bad R^2 score..\n",
      "\n",
      "lin.reg.score(X, y)=0.73\n",
      "MLP    .score(X, y)=-620173331651912251838824448.00\n",
      "\n",
      "OK\n"
     ]
    },
    {
     "data": {
      "image/png": "[encoded data removed]",
      "text/plain": [
       "<Figure size 432x288 with 1 Axes>"
      ]
     },
     "metadata": {
      "needs_background": "light"
     },
     "output_type": "display_data"
    }
   ],
   "source": [
    "# Setup the MLP and lin. regression again..\n",
    "\n",
    "from sklearn.neural_network import MLPRegressor\n",
    "from sklearn.linear_model import LinearRegression\n",
    "from sklearn.model_selection import cross_val_predict\n",
    "from sklearn.metrics import r2_score\n",
    "\n",
    "def PlotModels(model1, model2, X, y, name_model1=\"lin.reg\", name_model2=\"MLP\"):\n",
    "\n",
    "    # NOTE: local function is such a nifty feature of Python!\n",
    "    def CalcPredAndScore(model1, model2, X, y):\n",
    "        y_pred_model1 = model1.predict(X)\n",
    "        y_pred_model2 = model2.predict(X)\n",
    "\n",
    "        # call r2\n",
    "        score_model1 = r2_score(y, y_pred_model1)\n",
    "        score_model2 = r2_score(y, y_pred_model2)\n",
    "\n",
    "        return y_pred_model1, y_pred_model2, score_model1, score_model2\n",
    "    \n",
    "    def Fill(s, n):\n",
    "        while(len(s)<n):\n",
    "            s += \" \"\n",
    "        return s\n",
    "\n",
    "    y_pred_model1, y_pred_model2, score_model1, score_model2 = CalcPredAndScore(\n",
    "        model1, model2, X, y)\n",
    "\n",
    "    plt.plot(X, y_pred_model1, \"r.-\")\n",
    "    plt.plot(X, y_pred_model2, \"kx-\")\n",
    "    plt.scatter(X, y)\n",
    "    plt.xlabel(\"GDP per capita\")\n",
    "    plt.ylabel(\"Life satisfaction\")\n",
    "    plt.legend([name_model1, name_model2, \"X OECD data\"])\n",
    "\n",
    "    l = max(len(name_model1), len(name_model2))\n",
    "    \n",
    "    print(f\"{Fill(name_model1,l)}.score(X, y)={score_model1:0.2f}\")\n",
    "    print(f\"{Fill(name_model2,l)}.score(X, y)={score_model2:0.2f}\")\n",
    "\n",
    "\n",
    "# lets make a linear and MLP regressor and redo the plots\n",
    "\n",
    "mlp = MLPRegressor(hidden_layer_sizes=(10, ),\n",
    "                   solver='sgd',\n",
    "                   activation='relu',\n",
    "                   tol=1E-5,\n",
    "                   max_iter=100000,\n",
    "                   verbose=False)\n",
    "linreg = LinearRegression()\n",
    "\n",
    "mlp.fit(X, y)\n",
    "linreg.fit(X, y)\n",
    "\n",
    "print(\"The MLP may mis-fit the data, seen in the, sometimes, bad R^2 score..\\n\")\n",
    "PlotModels(linreg, mlp, X, y)\n",
    "plt.savefig('./images/1.png', format='png', dpi=300)\n",
    "print(\"\\nOK\")"
   ]
  },
  {
   "cell_type": "markdown",
   "metadata": {},
   "source": [
    "### Qa) Create a Min/max scaler for the MLP\n",
    "\n",
    "Now, the neurons in neural networks normally expect input data in the range `[0;1]` or sometimes in the range `[-1;1]`, meaning that for value outside this range then the neuron will saturate to its min or max value (also typical `0` or `1`). \n",
    "\n",
    "A concrete value of `X` is, say 22.000 USD, that is far away from what the MLP expects. Af fix to the problem in Qd), from `intro.ipynb`, is to preprocess data by scaling it down to something more sensible.\n",
    "\n",
    "Try to manually scale X to a range of `[0;1]`, re-train the MLP, re-plot and find the new score from the rescaled input. Any better?\n",
    "\n",
    "(If you already made exercise \"Qe) Neural Network with pre-scaling\" in L01, then reuse Your work here!) "
   ]
  },
  {
   "cell_type": "code",
   "execution_count": 11,
   "metadata": {
    "scrolled": true
   },
   "outputs": [
    {
     "name": "stdout",
     "output_type": "stream",
     "text": [
      "[9054.914]\n",
      "[55805.204]\n",
      "lin.reg.score(X, y)=0.73\n",
      "MLP    .score(X, y)=-0.32\n",
      "\n",
      "OK\n"
     ]
    },
    {
     "data": {
      "image/png": "[encoded data removed]",
      "text/plain": [
       "<Figure size 432x288 with 1 Axes>"
      ]
     },
     "metadata": {
      "needs_background": "light"
     },
     "output_type": "display_data"
    }
   ],
   "source": [
    "# TODO: add your code here.. s109 top, how to make min-max scaling\n",
    "#Min_max_Calc(val) = (val-min_val)/(max_val-min_val) Waow!\n",
    "def Fill(s, n):\n",
    "        while(len(s)<n):\n",
    "            s += \" \"\n",
    "        return s\n",
    "\n",
    "def CalcPredAndScore(model1, model2, X, y):\n",
    "        y_pred_model1 = model1.predict(X)\n",
    "        y_pred_model2 = model2.predict(X)\n",
    "\n",
    "        # call r2\n",
    "        score_model1 = r2_score(y, y_pred_model1)\n",
    "        score_model2 = r2_score(y, y_pred_model2)\n",
    "\n",
    "        return y_pred_model1, y_pred_model2, score_model1, score_model2\n",
    "\n",
    "def minmaxscaler(Xvar):\n",
    "    minVal = min(Xvar)\n",
    "    maxVal = max(Xvar)\n",
    "    minmaxedarray = []\n",
    "    print(minVal)\n",
    "    print(maxVal)\n",
    "    for i in Xvar:\n",
    "        minmaxedarray.append((i-2*minVal)/(6*maxVal-minVal))\n",
    "    \n",
    "    return np.array(minmaxedarray)\n",
    "\n",
    "minmaxedX = minmaxscaler(X)\n",
    "\n",
    "mlp.fit(minmaxedX,y)\n",
    "linreg.fit(minmaxedX, y)\n",
    "\n",
    "#PlotModels(linreg, mlp, minmaxedX, y)\n",
    "y_pred_model1, y_pred_model2, score_model1, score_model2 = CalcPredAndScore(linreg, mlp, minmaxedX, y)\n",
    "plt.plot(X, y_pred_model1, \"r.-\")\n",
    "plt.plot(X, y_pred_model2, \"kx-\")\n",
    "plt.scatter(X, y)\n",
    "plt.xlabel(\"GDP per capita\")\n",
    "plt.ylabel(\"Life satisfaction\")\n",
    "plt.legend([\"lin.reg\", \"MLP\", \"X OECD data\"])\n",
    "l = max(len(\"lin.reg\"), len(\"MLP\"))\n",
    "\n",
    "print(f\"\"\"{Fill(\"lin.reg\",l)}.score(X, y)={score_model1:0.2f}\"\"\")\n",
    "print(f\"\"\"{Fill(\"MLP\",l)}.score(X, y)={score_model2:0.2f}\"\"\")\n",
    "\n",
    "\n",
    "\n",
    "plt.savefig('./images/Qa_plot_sgd.png', format='png', dpi=300)\n",
    "print(\"\\nOK\")\n",
    "\n",
    "\n",
    "\n",
    "#assert False, \"TODO: rescale X and refit the model(s)..\""
   ]
  },
  {
   "cell_type": "markdown",
   "metadata": {},
   "source": [
    "### Qb) Scikit-learn Pipelines\n",
    "\n",
    "Now, rescale again, but use the `sklearn.preprocessing.MinMaxScaler`.\n",
    "\n",
    "When this works put both the MLP and the scaler into a composite construction via `sklearn.pipeline.Pipeline`. This composite is just a new Scikit-learn estimator, and can be used just like any other `fit-predict` models, try it, and document it for the journal.\n",
    "\n",
    "(You could reuse the `PlotModels()` function by also retraining the linear regressor on the scaled data, or just write your own plot code.)"
   ]
  },
  {
   "cell_type": "code",
   "execution_count": 4,
   "metadata": {
    "scrolled": true
   },
   "outputs": [
    {
     "name": "stdout",
     "output_type": "stream",
     "text": [
      "\n",
      "OK\n",
      "lin.reg.score(X, y)=0.73\n",
      "MLP    .score(X, y)=-0.14\n",
      "\n",
      "OK\n"
     ]
    },
    {
     "data": {
      "image/png": "[encoded data removed]",
      "text/plain": [
       "<Figure size 432x288 with 1 Axes>"
      ]
     },
     "metadata": {
      "needs_background": "light"
     },
     "output_type": "display_data"
    }
   ],
   "source": [
    "# TODO: add your code here..\n",
    "from sklearn.preprocessing import MinMaxScaler\n",
    "from sklearn.pipeline import Pipeline\n",
    "\n",
    "def Fill(s, n):\n",
    "        while(len(s)<n):\n",
    "            s += \" \"\n",
    "        return s\n",
    "\n",
    "def CalcPredAndScore(model1, model2, X, y):\n",
    "        y_pred_model1 = model1.predict(X)\n",
    "        y_pred_model2 = model2.predict(X)\n",
    "\n",
    "        # call r2\n",
    "        score_model1 = r2_score(y, y_pred_model1)\n",
    "        score_model2 = r2_score(y, y_pred_model2)\n",
    "\n",
    "        return y_pred_model1, y_pred_model2, score_model1, score_model2\n",
    "\n",
    "\n",
    "\n",
    "scaler = MinMaxScaler()\n",
    "scaler.fit(X)\n",
    "\n",
    "X_scaled = scaler.transform(X)\n",
    "\n",
    "mlp.fit(X_scaled,y)\n",
    "linreg.fit(X_scaled, y)\n",
    "\n",
    "#PlotModels(linreg, mlp, X_scaled, y)\n",
    "#plt.savefig('./images/Qb_plot.png', format='png', dpi=300)\n",
    "print(\"\\nOK\")\n",
    "\n",
    "pipe = Pipeline(\n",
    "    [\n",
    "        ('scaler', MinMaxScaler()),\n",
    "        ('mlp',mlp)\n",
    "    ]\n",
    ")\n",
    "\n",
    "pipe.fit(X,y)\n",
    "linreg.fit(X, y)\n",
    "\n",
    "#PlotModels(linreg, pipe, X, y)\n",
    "y_pred_model1, y_pred_model2, score_model1, score_model2 = CalcPredAndScore(linreg, pipe, X, y)\n",
    "plt.plot(X, y_pred_model1, \"r.-\")\n",
    "plt.plot(X, y_pred_model2, \"kx-\")\n",
    "plt.scatter(X, y)\n",
    "plt.xlabel(\"GDP per capita\")\n",
    "plt.ylabel(\"Life satisfaction\")\n",
    "plt.legend([\"lin.reg\", \"MLP\", \"X OECD data\"])\n",
    "l = max(len(\"lin.reg\"), len(\"MLP\"))\n",
    "\n",
    "print(f\"\"\"{Fill(\"lin.reg\",l)}.score(X, y)={score_model1:0.2f}\"\"\")\n",
    "print(f\"\"\"{Fill(\"MLP\",l)}.score(X, y)={score_model2:0.2f}\"\"\")\n",
    "plt.savefig('./images/Qb_plot23.png', format='png', dpi=300)\n",
    "print(\"\\nOK\")\n",
    "\n",
    "#assert False, \"TODO: put everything into a pipeline..\""
   ]
  },
  {
   "cell_type": "markdown",
   "metadata": {},
   "source": [
    "### Qc) Outliers and the Min-max Scaler vs. the Standard Scaler\n",
    "\n",
    "Explain the fundamental problem with a min-max scaler and outliers. \n",
    "\n",
    "Will a `sklearn.preprocessing.StandardScaler` do better here, in the case of abnormal feature values/outliers?"
   ]
  },
  {
   "cell_type": "code",
   "execution_count": 5,
   "metadata": {},
   "outputs": [
    {
     "ename": "SyntaxError",
     "evalue": "invalid syntax (Temp/ipykernel_26668/1183057262.py, line 2)",
     "output_type": "error",
     "traceback": [
      "\u001b[1;36m  File \u001b[1;32m\"C:\\Users\\1chri\\AppData\\Local\\Temp/ipykernel_26668/1183057262.py\"\u001b[1;36m, line \u001b[1;32m2\u001b[0m\n\u001b[1;33m    Problem: Hvis to attributters datasæt har meget forskellige værdi, f.eks datasæt1 range er [0:15] og datasæt2 range er [0:23000]\u001b[0m\n\u001b[1;37m                  ^\u001b[0m\n\u001b[1;31mSyntaxError\u001b[0m\u001b[1;31m:\u001b[0m invalid syntax\n"
     ]
    }
   ],
   "source": [
    "# TODO: research the problem here.. s108-109\n",
    "Problem: Hvis to attributters datasæt har meget forskellige værdi, f.eks datasæt1 range er [0:15] og datasæt2 range er [0:23000]\n",
    ", så vil attribut 2 automatisk betyde mere. For at få begge attributter til at vægte samme, normaliser! Kan bruge min-max scaling\n",
    "Men, problem! Hvis er outliers, kan forskyde alle værdier i datasæt, så normalisering ikke ændre på forhold! Standardisering bedre\n",
    "håndtere dette. Men! bounder ikke værdier til bestemt scale, som kan give problemer for nogle neurale netværk.\n",
    "# https://www.codecademy.com/article/normalization\n",
    "assert False, \"TODO: investigate outlier problems and try a StandardScaler..\""
   ]
  },
  {
   "cell_type": "markdown",
   "metadata": {},
   "source": [
    "### Qd) Modify the MLP Hyperparameters\n",
    "\n",
    "Finally, try out some of the hyperparameters associated with the MLP.\n",
    "\n",
    "Specifically, test how few neurons the MLP can do with---still producing a sensible output, i.e. high $R^2$. \n",
    "\n",
    "Also try-out some other activation functions, ala sigmoid, and solvers, like `sgd`.\n",
    "\n",
    "Notice, that the Scikit-learn MLP does not have as many adjustable parameters, as a Keras MLP, for example, the Scikit-learn MLP misses neurons initialization parameters (p. 333-334 [HOML]) and the ELU activation function (p. 336 [HOML]).\n",
    "\n",
    "OPTIONAL$_1$: use a Keras MLP regressor instead of the Scikit-learn MLP (You need to install the  Keras if its not installed as default).\n",
    "\n",
    "OPTIONAL$_2$: try out the `early_stopping` hyperparameter on the `MLPRegressor`. \n",
    "\n",
    "OPTIONAL$_3$: try putting all score-calculations into K-fold cross-validation  methods readily available in Scikit-learn using\n",
    "\n",
    "* `sklearn.model_selection.cross_val_predict`\n",
    "* `sklearn.model_selection.cross_val_score` \n",
    "\n",
    "or similar (this is, in theory, the correct method, but can be hard to use due to the  extremely small number of data points, `n=29`)."
   ]
  },
  {
   "cell_type": "code",
   "execution_count": null,
   "metadata": {},
   "outputs": [],
   "source": [
    "# TODO: add your code here..\n",
    "assert False, \"TODO: test out various hyperparameters for the MLP..\""
   ]
  },
  {
   "cell_type": "markdown",
   "metadata": {},
   "source": [
    "REVISIONS||\n",
    "---------||\n",
    "2020-10-15| CEF, initial. \n",
    "2020-10-21| CEF, added Standard Scaler Q.\n",
    "2020-11-17| CEF, removed orhpant text in Qa (moded to Qc).\n",
    "2021-02-10| CEF, updated for ITMAL F21.\n",
    "2021-11-08| CEF, updated print info.\n",
    "2021-02.10| CEF, updated for SWMAL F22.\n"
   ]
  }
 ],
 "metadata": {
  "kernelspec": {
   "display_name": "Python 3 (ipykernel)",
   "language": "python",
   "name": "python3"
  },
  "language_info": {
   "codemirror_mode": {
    "name": "ipython",
    "version": 3
   },
   "file_extension": ".py",
   "mimetype": "text/x-python",
   "name": "python",
   "nbconvert_exporter": "python",
   "pygments_lexer": "ipython3",
   "version": "3.9.7"
  },
  "varInspector": {
   "cols": {
    "lenName": 16,
    "lenType": 16,
    "lenVar": 40
   },
   "kernels_config": {
    "python": {
     "delete_cmd_postfix": "",
     "delete_cmd_prefix": "del ",
     "library": "var_list.py",
     "varRefreshCmd": "print(var_dic_list())"
    },
    "r": {
     "delete_cmd_postfix": ") ",
     "delete_cmd_prefix": "rm(",
     "library": "var_list.r",
     "varRefreshCmd": "cat(var_dic_list()) "
    }
   },
   "types_to_exclude": [
    "module",
    "function",
    "builtin_function_or_method",
    "instance",
    "_Feature"
   ],
   "window_display": true
  }
 },
 "nbformat": 4,
 "nbformat_minor": 4
}
